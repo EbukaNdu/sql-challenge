{
    "metadata": {
        "kernelspec": {
            "name": "SQL",
            "display_name": "SQL",
            "language": "sql"
        },
        "language_info": {
            "name": "sql",
            "version": ""
        }
    },
    "nbformat_minor": 2,
    "nbformat": 4,
    "cells": [
        {
            "cell_type": "code",
            "source": [
                "CREATE TABLE Departments (\r\n",
                "    dept_no VARCHAR(4) PRIMARY KEY,\r\n",
                "    dept_name VARCHAR(50) NOT NULL\r\n",
                ");"
            ],
            "metadata": {
                "azdata_cell_guid": "3c7134fa-5697-484c-9fe6-c5146e121b31",
                "language": "sql"
            },
            "outputs": [
                {
                    "output_type": "error",
                    "evalue": "relation \"departments\" already exists",
                    "ename": "",
                    "traceback": []
                },
                {
                    "output_type": "display_data",
                    "data": {
                        "text/html": "Total execution time: 00:00:00.004"
                    },
                    "metadata": {}
                }
            ],
            "execution_count": 1
        },
        {
            "cell_type": "code",
            "source": [
                "CREATE TABLE Employees (\r\n",
                "    emp_no INT PRIMARY KEY,\r\n",
                "    birth_date DATE,\r\n",
                "    first_name VARCHAR(50),\r\n",
                "    last_name VARCHAR(50),\r\n",
                "    gender CHAR(1),\r\n",
                "    hire_date DATE\r\n",
                ");"
            ],
            "metadata": {
                "language": "sql",
                "azdata_cell_guid": "b58da148-7f39-42bd-a23a-35654d28280a"
            },
            "outputs": [
                {
                    "output_type": "display_data",
                    "data": {
                        "text/html": "CREATE TABLE"
                    },
                    "metadata": {}
                },
                {
                    "output_type": "display_data",
                    "data": {
                        "text/html": "Total execution time: 00:00:00.022"
                    },
                    "metadata": {}
                }
            ],
            "execution_count": 2
        },
        {
            "cell_type": "code",
            "source": [
                "CREATE TABLE Dept_Emp (\r\n",
                "    emp_no INT,\r\n",
                "    dept_no VARCHAR(4),\r\n",
                "    from_date DATE,\r\n",
                "    to_date DATE,\r\n",
                "    FOREIGN KEY (emp_no) REFERENCES Employees(emp_no),\r\n",
                "    FOREIGN KEY (dept_no) REFERENCES Departments(dept_no),\r\n",
                "    PRIMARY KEY (emp_no, dept_no, from_date)\r\n",
                ");"
            ],
            "metadata": {
                "language": "sql",
                "azdata_cell_guid": "effd2e96-f469-46bc-a7e1-69420b37acdb"
            },
            "outputs": [
                {
                    "output_type": "display_data",
                    "data": {
                        "text/html": "CREATE TABLE"
                    },
                    "metadata": {}
                },
                {
                    "output_type": "display_data",
                    "data": {
                        "text/html": "Total execution time: 00:00:00.016"
                    },
                    "metadata": {}
                }
            ],
            "execution_count": 3
        },
        {
            "cell_type": "code",
            "source": [
                "CREATE TABLE Dept_Manager (\r\n",
                "    dept_no VARCHAR(4),\r\n",
                "    emp_no INT,\r\n",
                "    from_date DATE,\r\n",
                "    to_date DATE,\r\n",
                "    FOREIGN KEY (dept_no) REFERENCES Departments(dept_no),\r\n",
                "    FOREIGN KEY (emp_no) REFERENCES Employees(emp_no),\r\n",
                "    PRIMARY KEY (emp_no, dept_no, from_date)\r\n",
                ");\r\n",
                ""
            ],
            "metadata": {
                "language": "sql",
                "azdata_cell_guid": "4101a252-9114-47ff-b13e-c79eb9991059"
            },
            "outputs": [
                {
                    "output_type": "display_data",
                    "data": {
                        "text/html": "CREATE TABLE"
                    },
                    "metadata": {}
                },
                {
                    "output_type": "display_data",
                    "data": {
                        "text/html": "Total execution time: 00:00:00.012"
                    },
                    "metadata": {}
                }
            ],
            "execution_count": 4
        },
        {
            "cell_type": "code",
            "source": [
                "CREATE TABLE Salaries (\r\n",
                "    emp_no INT,\r\n",
                "    salary INT,\r\n",
                "    from_date DATE,\r\n",
                "    to_date DATE,\r\n",
                "    FOREIGN KEY (emp_no) REFERENCES Employees(emp_no),\r\n",
                "    PRIMARY KEY (emp_no, from_date)\r\n",
                ");\r\n",
                ""
            ],
            "metadata": {
                "language": "sql",
                "azdata_cell_guid": "f5000389-920f-452f-8460-c52df77a85aa"
            },
            "outputs": [
                {
                    "output_type": "display_data",
                    "data": {
                        "text/html": "CREATE TABLE"
                    },
                    "metadata": {}
                },
                {
                    "output_type": "display_data",
                    "data": {
                        "text/html": "Total execution time: 00:00:00.010"
                    },
                    "metadata": {}
                }
            ],
            "execution_count": 5
        },
        {
            "cell_type": "code",
            "source": [
                "CREATE TABLE Titles (\r\n",
                "    emp_no INT,\r\n",
                "    title VARCHAR(50),\r\n",
                "    from_date DATE,\r\n",
                "    to_date DATE,\r\n",
                "    FOREIGN KEY (emp_no) REFERENCES Employees(emp_no),\r\n",
                "    PRIMARY KEY (emp_no, from_date)\r\n",
                ");\r\n",
                ""
            ],
            "metadata": {
                "language": "sql",
                "azdata_cell_guid": "3fed324c-b4bc-4110-ad82-1de2ef44bc1c",
                "tags": []
            },
            "outputs": [
                {
                    "output_type": "display_data",
                    "data": {
                        "text/html": "CREATE TABLE"
                    },
                    "metadata": {}
                },
                {
                    "output_type": "display_data",
                    "data": {
                        "text/html": "Total execution time: 00:00:00.011"
                    },
                    "metadata": {}
                }
            ],
            "execution_count": 6
        },
        {
            "cell_type": "code",
            "source": [
                "INSERT INTO Departments (dept_no, dept_name) \r\n",
                "VALUES \r\n",
                "('d001', 'Marketing'),\r\n",
                "('d002', 'Finance'),\r\n",
                "('d003', 'Human Resources'),\r\n",
                "('d004', 'Production'),\r\n",
                "('d005', 'Development'),\r\n",
                "('d006', 'Quality Management'),\r\n",
                "('d007', 'Sales'),\r\n",
                "('d008', 'Research'),\r\n",
                "('d009', 'Customer Service');\r\n",
                ""
            ],
            "metadata": {
                "language": "sql",
                "azdata_cell_guid": "15d9a422-e7ae-42a5-86cf-ff46adb2904f"
            },
            "outputs": [
                {
                    "output_type": "display_data",
                    "data": {
                        "text/html": "INSERT 0 9"
                    },
                    "metadata": {}
                },
                {
                    "output_type": "display_data",
                    "data": {
                        "text/html": "Total execution time: 00:00:00.004"
                    },
                    "metadata": {}
                }
            ],
            "execution_count": 7
        },
        {
            "cell_type": "code",
            "source": [
                ""
            ],
            "metadata": {
                "language": "sql",
                "azdata_cell_guid": "6787fdd8-bb24-4d19-9f08-125a858ee25d"
            },
            "outputs": [],
            "execution_count": null
        }
    ]
}