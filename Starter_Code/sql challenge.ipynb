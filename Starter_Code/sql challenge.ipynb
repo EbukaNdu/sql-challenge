{
    "metadata": {
        "kernelspec": {
            "name": "SQL",
            "display_name": "SQL",
            "language": "sql"
        },
        "language_info": {
            "name": "sql",
            "version": ""
        }
    },
    "nbformat_minor": 2,
    "nbformat": 4,
    "cells": [
        {
            "cell_type": "code",
            "source": [
                ""
            ],
            "metadata": {
                "azdata_cell_guid": "0bf87198-b87c-4f94-996e-fe60e13e37b1",
                "language": "sql"
            },
            "outputs": [],
            "execution_count": null
        }
    ]
}