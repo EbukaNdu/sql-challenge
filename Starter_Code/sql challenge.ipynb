{
    "metadata": {
        "kernelspec": {
            "name": "SQL",
            "display_name": "SQL",
            "language": "sql"
        },
        "language_info": {
            "name": "sql",
            "version": ""
        }
    },
    "nbformat_minor": 2,
    "nbformat": 4,
    "cells": [
        {
            "cell_type": "code",
            "source": [
                "-- List the employee number, last name, first name, sex, and salary of each employee.\r\n",
                "\r\n",
                "SELECT e.emp_no, e.last_name, e.first_name, e.sex, s.salary\r\n",
                "FROM Employees e\r\n",
                "INNER JOIN Salaries s ON e.emp_no = s.emp_no\r\n",
                "limit 20;\r\n",
                ""
            ],
            "metadata": {
                "azdata_cell_guid": "0bf87198-b87c-4f94-996e-fe60e13e37b1",
                "language": "sql",
                "tags": []
            },
            "outputs": [
                {
                    "output_type": "display_data",
                    "data": {
                        "text/html": "(20 row(s) affected)"
                    },
                    "metadata": {}
                },
                {
                    "output_type": "display_data",
                    "data": {
                        "text/html": "Total execution time: 00:00:00.007"
                    },
                    "metadata": {}
                },
                {
                    "output_type": "execute_result",
                    "metadata": {},
                    "execution_count": 18,
                    "data": {
                        "application/vnd.dataresource+json": {
                            "schema": {
                                "fields": [
                                    {
                                        "name": "emp_no"
                                    },
                                    {
                                        "name": "last_name"
                                    },
                                    {
                                        "name": "first_name"
                                    },
                                    {
                                        "name": "sex"
                                    },
                                    {
                                        "name": "salary"
                                    }
                                ]
                            },
                            "data": [
                                {
                                    "emp_no": "10001",
                                    "last_name": "Facello",
                                    "first_name": "Georgi",
                                    "sex": "M",
                                    "salary": "60117"
                                },
                                {
                                    "emp_no": "10002",
                                    "last_name": "Simmel",
                                    "first_name": "Bezalel",
                                    "sex": "F",
                                    "salary": "65828"
                                },
                                {
                                    "emp_no": "10003",
                                    "last_name": "Bamford",
                                    "first_name": "Parto",
                                    "sex": "M",
                                    "salary": "40006"
                                },
                                {
                                    "emp_no": "10004",
                                    "last_name": "Koblick",
                                    "first_name": "Chirstian",
                                    "sex": "M",
                                    "salary": "40054"
                                },
                                {
                                    "emp_no": "10005",
                                    "last_name": "Maliniak",
                                    "first_name": "Kyoichi",
                                    "sex": "M",
                                    "salary": "78228"
                                },
                                {
                                    "emp_no": "10006",
                                    "last_name": "Preusig",
                                    "first_name": "Anneke",
                                    "sex": "F",
                                    "salary": "40000"
                                },
                                {
                                    "emp_no": "10007",
                                    "last_name": "Zielinski",
                                    "first_name": "Tzvetan",
                                    "sex": "F",
                                    "salary": "56724"
                                },
                                {
                                    "emp_no": "10008",
                                    "last_name": "Kalloufi",
                                    "first_name": "Saniya",
                                    "sex": "M",
                                    "salary": "46671"
                                },
                                {
                                    "emp_no": "10009",
                                    "last_name": "Peac",
                                    "first_name": "Sumant",
                                    "sex": "F",
                                    "salary": "60929"
                                },
                                {
                                    "emp_no": "10010",
                                    "last_name": "Piveteau",
                                    "first_name": "Duangkaew",
                                    "sex": "F",
                                    "salary": "72488"
                                },
                                {
                                    "emp_no": "10011",
                                    "last_name": "Sluis",
                                    "first_name": "Mary",
                                    "sex": "F",
                                    "salary": "42365"
                                },
                                {
                                    "emp_no": "10012",
                                    "last_name": "Bridgland",
                                    "first_name": "Patricio",
                                    "sex": "M",
                                    "salary": "40000"
                                },
                                {
                                    "emp_no": "10013",
                                    "last_name": "Terkki",
                                    "first_name": "Eberhardt",
                                    "sex": "M",
                                    "salary": "40000"
                                },
                                {
                                    "emp_no": "10014",
                                    "last_name": "Genin",
                                    "first_name": "Berni",
                                    "sex": "M",
                                    "salary": "46168"
                                },
                                {
                                    "emp_no": "10015",
                                    "last_name": "Nooteboom",
                                    "first_name": "Guoxiang",
                                    "sex": "M",
                                    "salary": "40000"
                                },
                                {
                                    "emp_no": "10016",
                                    "last_name": "Cappelletti",
                                    "first_name": "Kazuhito",
                                    "sex": "M",
                                    "salary": "70889"
                                },
                                {
                                    "emp_no": "10017",
                                    "last_name": "Bouloucos",
                                    "first_name": "Cristinel",
                                    "sex": "F",
                                    "salary": "71380"
                                },
                                {
                                    "emp_no": "10018",
                                    "last_name": "Peha",
                                    "first_name": "Kazuhide",
                                    "sex": "F",
                                    "salary": "55881"
                                },
                                {
                                    "emp_no": "10019",
                                    "last_name": "Haddadi",
                                    "first_name": "Lillian",
                                    "sex": "M",
                                    "salary": "44276"
                                },
                                {
                                    "emp_no": "10020",
                                    "last_name": "Warwick",
                                    "first_name": "Mayuko",
                                    "sex": "M",
                                    "salary": "40000"
                                }
                            ]
                        },
                        "text/html": [
                            "<table>",
                            "<tr><th>emp_no</th><th>last_name</th><th>first_name</th><th>sex</th><th>salary</th></tr>",
                            "<tr><td>10001</td><td>Facello</td><td>Georgi</td><td>M</td><td>60117</td></tr>",
                            "<tr><td>10002</td><td>Simmel</td><td>Bezalel</td><td>F</td><td>65828</td></tr>",
                            "<tr><td>10003</td><td>Bamford</td><td>Parto</td><td>M</td><td>40006</td></tr>",
                            "<tr><td>10004</td><td>Koblick</td><td>Chirstian</td><td>M</td><td>40054</td></tr>",
                            "<tr><td>10005</td><td>Maliniak</td><td>Kyoichi</td><td>M</td><td>78228</td></tr>",
                            "<tr><td>10006</td><td>Preusig</td><td>Anneke</td><td>F</td><td>40000</td></tr>",
                            "<tr><td>10007</td><td>Zielinski</td><td>Tzvetan</td><td>F</td><td>56724</td></tr>",
                            "<tr><td>10008</td><td>Kalloufi</td><td>Saniya</td><td>M</td><td>46671</td></tr>",
                            "<tr><td>10009</td><td>Peac</td><td>Sumant</td><td>F</td><td>60929</td></tr>",
                            "<tr><td>10010</td><td>Piveteau</td><td>Duangkaew</td><td>F</td><td>72488</td></tr>",
                            "<tr><td>10011</td><td>Sluis</td><td>Mary</td><td>F</td><td>42365</td></tr>",
                            "<tr><td>10012</td><td>Bridgland</td><td>Patricio</td><td>M</td><td>40000</td></tr>",
                            "<tr><td>10013</td><td>Terkki</td><td>Eberhardt</td><td>M</td><td>40000</td></tr>",
                            "<tr><td>10014</td><td>Genin</td><td>Berni</td><td>M</td><td>46168</td></tr>",
                            "<tr><td>10015</td><td>Nooteboom</td><td>Guoxiang</td><td>M</td><td>40000</td></tr>",
                            "<tr><td>10016</td><td>Cappelletti</td><td>Kazuhito</td><td>M</td><td>70889</td></tr>",
                            "<tr><td>10017</td><td>Bouloucos</td><td>Cristinel</td><td>F</td><td>71380</td></tr>",
                            "<tr><td>10018</td><td>Peha</td><td>Kazuhide</td><td>F</td><td>55881</td></tr>",
                            "<tr><td>10019</td><td>Haddadi</td><td>Lillian</td><td>M</td><td>44276</td></tr>",
                            "<tr><td>10020</td><td>Warwick</td><td>Mayuko</td><td>M</td><td>40000</td></tr>",
                            "</table>"
                        ]
                    }
                }
            ],
            "execution_count": 18
        },
        {
            "cell_type": "code",
            "source": [
                "-- List the first name, last name, and hire date for the employees who were hired in 1986.\r\n",
                "\r\n",
                "SELECT first_name, last_name, hire_date\r\n",
                "FROM Employees\r\n",
                "WHERE hire_date BETWEEN '1986-01-01' AND '1986-12-31'\r\n",
                "limit 20;\r\n",
                ""
            ],
            "metadata": {
                "language": "sql",
                "azdata_cell_guid": "f422a198-97ed-412c-9fe5-ea2c041f77e1",
                "tags": []
            },
            "outputs": [
{
    "output_type": "display_data",
    "data": {
        "text/html": "(20 row(s) affected)"
    },
    "metadata": {}
}, {
    "output_type": "display_data",
    "data": {
        "text/html": "Total execution time: 00:00:00.004"
    },
    "metadata": {}
}, {
    "output_type": "execute_result",
    "metadata": {},
    "execution_count": 19,
    "data": {
        "application/vnd.dataresource+json": {
            "schema": {
                "fields": [
                    {
                        "name": "first_name"
                    },
                    {
                        "name": "last_name"
                    },
                    {
                        "name": "hire_date"
                    }
                ]
            },
            "data": [
                {
                    "first_name": "Eran",
                    "last_name": "Cusworth",
                    "hire_date": "1986-11-14"
                },
                {
                    "first_name": "Bojan",
                    "last_name": "Zallocco",
                    "hire_date": "1986-10-14"
                },
                {
                    "first_name": "Nevio",
                    "last_name": "Demizu",
                    "hire_date": "1986-05-18"
                },
                {
                    "first_name": "Ziva",
                    "last_name": "Vecchi",
                    "hire_date": "1986-07-03"
                },
                {
                    "first_name": "Mohit",
                    "last_name": "Speek",
                    "hire_date": "1986-01-14"
                },
                {
                    "first_name": "Qunsheng",
                    "last_name": "Speer",
                    "hire_date": "1986-02-13"
                },
                {
                    "first_name": "Dines",
                    "last_name": "Encarnacion",
                    "hire_date": "1986-08-02"
                },
                {
                    "first_name": "Harngdar",
                    "last_name": "Swick",
                    "hire_date": "1986-05-28"
                },
                {
                    "first_name": "Freyja",
                    "last_name": "Uhrig",
                    "hire_date": "1986-12-20"
                },
                {
                    "first_name": "Zhenhua",
                    "last_name": "Milicic",
                    "hire_date": "1986-08-04"
                },
                {
                    "first_name": "Bowen",
                    "last_name": "Schmezko",
                    "hire_date": "1986-05-30"
                },
                {
                    "first_name": "Reuven",
                    "last_name": "Munke",
                    "hire_date": "1986-04-13"
                },
                {
                    "first_name": "Stabislas",
                    "last_name": "Domenig",
                    "hire_date": "1986-08-04"
                },
                {
                    "first_name": "Juichirou",
                    "last_name": "Jumpertz",
                    "hire_date": "1986-09-18"
                },
                {
                    "first_name": "Juichirou",
                    "last_name": "Ghelli",
                    "hire_date": "1986-12-13"
                },
                {
                    "first_name": "Shmuel",
                    "last_name": "Georg",
                    "hire_date": "1986-11-30"
                },
                {
                    "first_name": "Xiadong",
                    "last_name": "Bach",
                    "hire_date": "1986-04-29"
                },
                {
                    "first_name": "Guangming",
                    "last_name": "Butterworth",
                    "hire_date": "1986-10-01"
                },
                {
                    "first_name": "Irene",
                    "last_name": "Setia",
                    "hire_date": "1986-08-10"
                },
                {
                    "first_name": "Shuichi",
                    "last_name": "Swiler",
                    "hire_date": "1986-06-08"
                }
            ]
        },
        "text/html": [
            "<table>",
            "<tr><th>first_name</th><th>last_name</th><th>hire_date</th></tr>",
            "<tr><td>Eran</td><td>Cusworth</td><td>1986-11-14</td></tr>",
            "<tr><td>Bojan</td><td>Zallocco</td><td>1986-10-14</td></tr>",
            "<tr><td>Nevio</td><td>Demizu</td><td>1986-05-18</td></tr>",
            "<tr><td>Ziva</td><td>Vecchi</td><td>1986-07-03</td></tr>",
            "<tr><td>Mohit</td><td>Speek</td><td>1986-01-14</td></tr>",
            "<tr><td>Qunsheng</td><td>Speer</td><td>1986-02-13</td></tr>",
            "<tr><td>Dines</td><td>Encarnacion</td><td>1986-08-02</td></tr>",
            "<tr><td>Harngdar</td><td>Swick</td><td>1986-05-28</td></tr>",
            "<tr><td>Freyja</td><td>Uhrig</td><td>1986-12-20</td></tr>",
            "<tr><td>Zhenhua</td><td>Milicic</td><td>1986-08-04</td></tr>",
            "<tr><td>Bowen</td><td>Schmezko</td><td>1986-05-30</td></tr>",
            "<tr><td>Reuven</td><td>Munke</td><td>1986-04-13</td></tr>",
            "<tr><td>Stabislas</td><td>Domenig</td><td>1986-08-04</td></tr>",
            "<tr><td>Juichirou</td><td>Jumpertz</td><td>1986-09-18</td></tr>",
            "<tr><td>Juichirou</td><td>Ghelli</td><td>1986-12-13</td></tr>",
            "<tr><td>Shmuel</td><td>Georg</td><td>1986-11-30</td></tr>",
            "<tr><td>Xiadong</td><td>Bach</td><td>1986-04-29</td></tr>",
            "<tr><td>Guangming</td><td>Butterworth</td><td>1986-10-01</td></tr>",
            "<tr><td>Irene</td><td>Setia</td><td>1986-08-10</td></tr>",
            "<tr><td>Shuichi</td><td>Swiler</td><td>1986-06-08</td></tr>",
            "</table>"
        ]
    }
}
],
            "execution_count": 19
        },
        {
            "cell_type": "code",
            "source": [
                "-- List the manager of each department along with their department number, department name, employee number, last name, and first name.\r\n",
                "\r\n",
                "SELECT dm.dept_no, d.dept_name, dm.emp_no AS manager_emp_no, e.last_name AS manager_last_name, e.first_name AS manager_first_name\r\n",
                "FROM Dept_Manager dm\r\n",
                "INNER JOIN Employees e ON dm.emp_no = e.emp_no\r\n",
                "INNER JOIN Departments d ON dm.dept_no = d.dept_no;\r\n",
                ""
            ],
            "metadata": {
                "language": "sql",
                "azdata_cell_guid": "442ea300-d492-4f57-8441-db0de103b6ec",
                "tags": []
            },
            "outputs": [
                {
                    "output_type": "display_data",
                    "data": {
                        "text/html": "(24 row(s) affected)"
                    },
                    "metadata": {}
                },
                {
                    "output_type": "display_data",
                    "data": {
                        "text/html": "Total execution time: 00:00:00.011"
                    },
                    "metadata": {}
                },
                {
                    "output_type": "execute_result",
                    "metadata": {},
                    "execution_count": 3,
                    "data": {
                        "application/vnd.dataresource+json": {
                            "schema": {
                                "fields": [
                                    {
                                        "name": "dept_no"
                                    },
                                    {
                                        "name": "dept_name"
                                    },
                                    {
                                        "name": "manager_emp_no"
                                    },
                                    {
                                        "name": "manager_last_name"
                                    },
                                    {
                                        "name": "manager_first_name"
                                    }
                                ]
                            },
                            "data": [
                                {
                                    "dept_no": "d001",
                                    "dept_name": "Marketing",
                                    "manager_emp_no": "110022",
                                    "manager_last_name": "Markovitch",
                                    "manager_first_name": "Margareta"
                                },
                                {
                                    "dept_no": "d001",
                                    "dept_name": "Marketing",
                                    "manager_emp_no": "110039",
                                    "manager_last_name": "Minakawa",
                                    "manager_first_name": "Vishwani"
                                },
                                {
                                    "dept_no": "d002",
                                    "dept_name": "Finance",
                                    "manager_emp_no": "110085",
                                    "manager_last_name": "Alpin",
                                    "manager_first_name": "Ebru"
                                },
                                {
                                    "dept_no": "d002",
                                    "dept_name": "Finance",
                                    "manager_emp_no": "110114",
                                    "manager_last_name": "Legleitner",
                                    "manager_first_name": "Isamu"
                                },
                                {
                                    "dept_no": "d003",
                                    "dept_name": "Human Resources",
                                    "manager_emp_no": "110183",
                                    "manager_last_name": "Ossenbruggen",
                                    "manager_first_name": "Shirish"
                                },
                                {
                                    "dept_no": "d003",
                                    "dept_name": "Human Resources",
                                    "manager_emp_no": "110228",
                                    "manager_last_name": "Sigstam",
                                    "manager_first_name": "Karsten"
                                },
                                {
                                    "dept_no": "d004",
                                    "dept_name": "Production",
                                    "manager_emp_no": "110303",
                                    "manager_last_name": "Wegerle",
                                    "manager_first_name": "Krassimir"
                                },
                                {
                                    "dept_no": "d004",
                                    "dept_name": "Production",
                                    "manager_emp_no": "110344",
                                    "manager_last_name": "Cools",
                                    "manager_first_name": "Rosine"
                                },
                                {
                                    "dept_no": "d004",
                                    "dept_name": "Production",
                                    "manager_emp_no": "110386",
                                    "manager_last_name": "Kieras",
                                    "manager_first_name": "Shem"
                                },
                                {
                                    "dept_no": "d004",
                                    "dept_name": "Production",
                                    "manager_emp_no": "110420",
                                    "manager_last_name": "Ghazalie",
                                    "manager_first_name": "Oscar"
                                },
                                {
                                    "dept_no": "d005",
                                    "dept_name": "Development",
                                    "manager_emp_no": "110511",
                                    "manager_last_name": "Hagimont",
                                    "manager_first_name": "DeForest"
                                },
                                {
                                    "dept_no": "d005",
                                    "dept_name": "Development",
                                    "manager_emp_no": "110567",
                                    "manager_last_name": "DasSarma",
                                    "manager_first_name": "Leon"
                                },
                                {
                                    "dept_no": "d006",
                                    "dept_name": "Quality Management",
                                    "manager_emp_no": "110725",
                                    "manager_last_name": "Onuegbe",
                                    "manager_first_name": "Peternela"
                                },
                                {
                                    "dept_no": "d006",
                                    "dept_name": "Quality Management",
                                    "manager_emp_no": "110765",
                                    "manager_last_name": "Hofmeyr",
                                    "manager_first_name": "Rutger"
                                },
                                {
                                    "dept_no": "d006",
                                    "dept_name": "Quality Management",
                                    "manager_emp_no": "110800",
                                    "manager_last_name": "Quadeer",
                                    "manager_first_name": "Sanjoy"
                                },
                                {
                                    "dept_no": "d006",
                                    "dept_name": "Quality Management",
                                    "manager_emp_no": "110854",
                                    "manager_last_name": "Pesch",
                                    "manager_first_name": "Dung"
                                },
                                {
                                    "dept_no": "d007",
                                    "dept_name": "Sales",
                                    "manager_emp_no": "111035",
                                    "manager_last_name": "Kaelbling",
                                    "manager_first_name": "Przemyslawa"
                                },
                                {
                                    "dept_no": "d007",
                                    "dept_name": "Sales",
                                    "manager_emp_no": "111133",
                                    "manager_last_name": "Zhang",
                                    "manager_first_name": "Hauke"
                                },
                                {
                                    "dept_no": "d008",
                                    "dept_name": "Research",
                                    "manager_emp_no": "111400",
                                    "manager_last_name": "Staelin",
                                    "manager_first_name": "Arie"
                                },
                                {
                                    "dept_no": "d008",
                                    "dept_name": "Research",
                                    "manager_emp_no": "111534",
                                    "manager_last_name": "Kambil",
                                    "manager_first_name": "Hilary"
                                },
                                {
                                    "dept_no": "d009",
                                    "dept_name": "Customer Service",
                                    "manager_emp_no": "111692",
                                    "manager_last_name": "Butterworth",
                                    "manager_first_name": "Tonny"
                                },
                                {
                                    "dept_no": "d009",
                                    "dept_name": "Customer Service",
                                    "manager_emp_no": "111784",
                                    "manager_last_name": "Giarratana",
                                    "manager_first_name": "Marjo"
                                },
                                {
                                    "dept_no": "d009",
                                    "dept_name": "Customer Service",
                                    "manager_emp_no": "111877",
                                    "manager_last_name": "Spinelli",
                                    "manager_first_name": "Xiaobin"
                                },
                                {
                                    "dept_no": "d009",
                                    "dept_name": "Customer Service",
                                    "manager_emp_no": "111939",
                                    "manager_last_name": "Weedman",
                                    "manager_first_name": "Yuchang"
                                }
                            ]
                        },
                        "text/html": [
                            "<table>",
                            "<tr><th>dept_no</th><th>dept_name</th><th>manager_emp_no</th><th>manager_last_name</th><th>manager_first_name</th></tr>",
                            "<tr><td>d001</td><td>Marketing</td><td>110022</td><td>Markovitch</td><td>Margareta</td></tr>",
                            "<tr><td>d001</td><td>Marketing</td><td>110039</td><td>Minakawa</td><td>Vishwani</td></tr>",
                            "<tr><td>d002</td><td>Finance</td><td>110085</td><td>Alpin</td><td>Ebru</td></tr>",
                            "<tr><td>d002</td><td>Finance</td><td>110114</td><td>Legleitner</td><td>Isamu</td></tr>",
                            "<tr><td>d003</td><td>Human Resources</td><td>110183</td><td>Ossenbruggen</td><td>Shirish</td></tr>",
                            "<tr><td>d003</td><td>Human Resources</td><td>110228</td><td>Sigstam</td><td>Karsten</td></tr>",
                            "<tr><td>d004</td><td>Production</td><td>110303</td><td>Wegerle</td><td>Krassimir</td></tr>",
                            "<tr><td>d004</td><td>Production</td><td>110344</td><td>Cools</td><td>Rosine</td></tr>",
                            "<tr><td>d004</td><td>Production</td><td>110386</td><td>Kieras</td><td>Shem</td></tr>",
                            "<tr><td>d004</td><td>Production</td><td>110420</td><td>Ghazalie</td><td>Oscar</td></tr>",
                            "<tr><td>d005</td><td>Development</td><td>110511</td><td>Hagimont</td><td>DeForest</td></tr>",
                            "<tr><td>d005</td><td>Development</td><td>110567</td><td>DasSarma</td><td>Leon</td></tr>",
                            "<tr><td>d006</td><td>Quality Management</td><td>110725</td><td>Onuegbe</td><td>Peternela</td></tr>",
                            "<tr><td>d006</td><td>Quality Management</td><td>110765</td><td>Hofmeyr</td><td>Rutger</td></tr>",
                            "<tr><td>d006</td><td>Quality Management</td><td>110800</td><td>Quadeer</td><td>Sanjoy</td></tr>",
                            "<tr><td>d006</td><td>Quality Management</td><td>110854</td><td>Pesch</td><td>Dung</td></tr>",
                            "<tr><td>d007</td><td>Sales</td><td>111035</td><td>Kaelbling</td><td>Przemyslawa</td></tr>",
                            "<tr><td>d007</td><td>Sales</td><td>111133</td><td>Zhang</td><td>Hauke</td></tr>",
                            "<tr><td>d008</td><td>Research</td><td>111400</td><td>Staelin</td><td>Arie</td></tr>",
                            "<tr><td>d008</td><td>Research</td><td>111534</td><td>Kambil</td><td>Hilary</td></tr>",
                            "<tr><td>d009</td><td>Customer Service</td><td>111692</td><td>Butterworth</td><td>Tonny</td></tr>",
                            "<tr><td>d009</td><td>Customer Service</td><td>111784</td><td>Giarratana</td><td>Marjo</td></tr>",
                            "<tr><td>d009</td><td>Customer Service</td><td>111877</td><td>Spinelli</td><td>Xiaobin</td></tr>",
                            "<tr><td>d009</td><td>Customer Service</td><td>111939</td><td>Weedman</td><td>Yuchang</td></tr>",
                            "</table>"
                        ]
                    }
                }
            ],
            "execution_count": 3
        },
        {
            "cell_type": "code",
            "source": [
                "-- List the department number for each employee along with that employee’s employee number, last name, first name, and department name.\r\n",
                "\r\n",
                "SELECT de.emp_no, e.last_name, e.first_name, d.dept_name, de.dept_no\r\n",
                "FROM Dept_Emp de\r\n",
                "INNER JOIN Employees e ON de.emp_no = e.emp_no\r\n",
                "INNER JOIN Departments d ON de.dept_no = d.dept_no\r\n",
                "Limit 20;"
            ],
            "metadata": {
                "azdata_cell_guid": "f76c731f-a449-4df9-a6f4-5d4781e912a5",
                "language": "sql",
                "tags": []
            },
            "outputs": [
                {
                    "output_type": "display_data",
                    "data": {
                        "text/html": "(20 row(s) affected)"
                    },
                    "metadata": {}
                },
                {
                    "output_type": "display_data",
                    "data": {
                        "text/html": "Total execution time: 00:00:00.008"
                    },
                    "metadata": {}
                },
                {
                    "output_type": "execute_result",
                    "metadata": {},
                    "execution_count": 17,
                    "data": {
                        "application/vnd.dataresource+json": {
                            "schema": {
                                "fields": [
                                    {
                                        "name": "emp_no"
                                    },
                                    {
                                        "name": "last_name"
                                    },
                                    {
                                        "name": "first_name"
                                    },
                                    {
                                        "name": "dept_name"
                                    },
                                    {
                                        "name": "dept_no"
                                    }
                                ]
                            },
                            "data": [
                                {
                                    "emp_no": "10001",
                                    "last_name": "Facello",
                                    "first_name": "Georgi",
                                    "dept_name": "Development",
                                    "dept_no": "d005"
                                },
                                {
                                    "emp_no": "10002",
                                    "last_name": "Simmel",
                                    "first_name": "Bezalel",
                                    "dept_name": "Sales",
                                    "dept_no": "d007"
                                },
                                {
                                    "emp_no": "10003",
                                    "last_name": "Bamford",
                                    "first_name": "Parto",
                                    "dept_name": "Production",
                                    "dept_no": "d004"
                                },
                                {
                                    "emp_no": "10004",
                                    "last_name": "Koblick",
                                    "first_name": "Chirstian",
                                    "dept_name": "Production",
                                    "dept_no": "d004"
                                },
                                {
                                    "emp_no": "10005",
                                    "last_name": "Maliniak",
                                    "first_name": "Kyoichi",
                                    "dept_name": "Human Resources",
                                    "dept_no": "d003"
                                },
                                {
                                    "emp_no": "10006",
                                    "last_name": "Preusig",
                                    "first_name": "Anneke",
                                    "dept_name": "Development",
                                    "dept_no": "d005"
                                },
                                {
                                    "emp_no": "10007",
                                    "last_name": "Zielinski",
                                    "first_name": "Tzvetan",
                                    "dept_name": "Research",
                                    "dept_no": "d008"
                                },
                                {
                                    "emp_no": "10008",
                                    "last_name": "Kalloufi",
                                    "first_name": "Saniya",
                                    "dept_name": "Development",
                                    "dept_no": "d005"
                                },
                                {
                                    "emp_no": "10009",
                                    "last_name": "Peac",
                                    "first_name": "Sumant",
                                    "dept_name": "Quality Management",
                                    "dept_no": "d006"
                                },
                                {
                                    "emp_no": "10010",
                                    "last_name": "Piveteau",
                                    "first_name": "Duangkaew",
                                    "dept_name": "Production",
                                    "dept_no": "d004"
                                },
                                {
                                    "emp_no": "10010",
                                    "last_name": "Piveteau",
                                    "first_name": "Duangkaew",
                                    "dept_name": "Quality Management",
                                    "dept_no": "d006"
                                },
                                {
                                    "emp_no": "10011",
                                    "last_name": "Sluis",
                                    "first_name": "Mary",
                                    "dept_name": "Customer Service",
                                    "dept_no": "d009"
                                },
                                {
                                    "emp_no": "10012",
                                    "last_name": "Bridgland",
                                    "first_name": "Patricio",
                                    "dept_name": "Development",
                                    "dept_no": "d005"
                                },
                                {
                                    "emp_no": "10013",
                                    "last_name": "Terkki",
                                    "first_name": "Eberhardt",
                                    "dept_name": "Human Resources",
                                    "dept_no": "d003"
                                },
                                {
                                    "emp_no": "10014",
                                    "last_name": "Genin",
                                    "first_name": "Berni",
                                    "dept_name": "Development",
                                    "dept_no": "d005"
                                },
                                {
                                    "emp_no": "10015",
                                    "last_name": "Nooteboom",
                                    "first_name": "Guoxiang",
                                    "dept_name": "Research",
                                    "dept_no": "d008"
                                },
                                {
                                    "emp_no": "10016",
                                    "last_name": "Cappelletti",
                                    "first_name": "Kazuhito",
                                    "dept_name": "Sales",
                                    "dept_no": "d007"
                                },
                                {
                                    "emp_no": "10017",
                                    "last_name": "Bouloucos",
                                    "first_name": "Cristinel",
                                    "dept_name": "Marketing",
                                    "dept_no": "d001"
                                },
                                {
                                    "emp_no": "10018",
                                    "last_name": "Peha",
                                    "first_name": "Kazuhide",
                                    "dept_name": "Production",
                                    "dept_no": "d004"
                                },
                                {
                                    "emp_no": "10018",
                                    "last_name": "Peha",
                                    "first_name": "Kazuhide",
                                    "dept_name": "Development",
                                    "dept_no": "d005"
                                }
                            ]
                        },
                        "text/html": [
                            "<table>",
                            "<tr><th>emp_no</th><th>last_name</th><th>first_name</th><th>dept_name</th><th>dept_no</th></tr>",
                            "<tr><td>10001</td><td>Facello</td><td>Georgi</td><td>Development</td><td>d005</td></tr>",
                            "<tr><td>10002</td><td>Simmel</td><td>Bezalel</td><td>Sales</td><td>d007</td></tr>",
                            "<tr><td>10003</td><td>Bamford</td><td>Parto</td><td>Production</td><td>d004</td></tr>",
                            "<tr><td>10004</td><td>Koblick</td><td>Chirstian</td><td>Production</td><td>d004</td></tr>",
                            "<tr><td>10005</td><td>Maliniak</td><td>Kyoichi</td><td>Human Resources</td><td>d003</td></tr>",
                            "<tr><td>10006</td><td>Preusig</td><td>Anneke</td><td>Development</td><td>d005</td></tr>",
                            "<tr><td>10007</td><td>Zielinski</td><td>Tzvetan</td><td>Research</td><td>d008</td></tr>",
                            "<tr><td>10008</td><td>Kalloufi</td><td>Saniya</td><td>Development</td><td>d005</td></tr>",
                            "<tr><td>10009</td><td>Peac</td><td>Sumant</td><td>Quality Management</td><td>d006</td></tr>",
                            "<tr><td>10010</td><td>Piveteau</td><td>Duangkaew</td><td>Production</td><td>d004</td></tr>",
                            "<tr><td>10010</td><td>Piveteau</td><td>Duangkaew</td><td>Quality Management</td><td>d006</td></tr>",
                            "<tr><td>10011</td><td>Sluis</td><td>Mary</td><td>Customer Service</td><td>d009</td></tr>",
                            "<tr><td>10012</td><td>Bridgland</td><td>Patricio</td><td>Development</td><td>d005</td></tr>",
                            "<tr><td>10013</td><td>Terkki</td><td>Eberhardt</td><td>Human Resources</td><td>d003</td></tr>",
                            "<tr><td>10014</td><td>Genin</td><td>Berni</td><td>Development</td><td>d005</td></tr>",
                            "<tr><td>10015</td><td>Nooteboom</td><td>Guoxiang</td><td>Research</td><td>d008</td></tr>",
                            "<tr><td>10016</td><td>Cappelletti</td><td>Kazuhito</td><td>Sales</td><td>d007</td></tr>",
                            "<tr><td>10017</td><td>Bouloucos</td><td>Cristinel</td><td>Marketing</td><td>d001</td></tr>",
                            "<tr><td>10018</td><td>Peha</td><td>Kazuhide</td><td>Production</td><td>d004</td></tr>",
                            "<tr><td>10018</td><td>Peha</td><td>Kazuhide</td><td>Development</td><td>d005</td></tr>",
                            "</table>"
                        ]
                    }
                }
            ],
            "execution_count": 17
        },
        {
            "cell_type": "code",
            "source": [
                "-- List first name, last name, and sex of each employee whose first name is Hercules and whose last name begins with the letter B:\r\n",
                "\r\n",
                "SELECT first_name, last_name, sex\r\n",
                "FROM Employees\r\n",
                "WHERE first_name = 'Hercules' AND last_name LIKE 'B%'\r\n",
                "limit 20;\r\n",
                ""
            ],
            "metadata": {
                "language": "sql",
                "azdata_cell_guid": "f64c9535-716b-42d4-bf39-b4aa9da697e9",
                "tags": []
            },
            "outputs": [
                {
                    "output_type": "display_data",
                    "data": {
                        "text/html": "(20 row(s) affected)"
                    },
                    "metadata": {}
                },
                {
                    "output_type": "display_data",
                    "data": {
                        "text/html": "Total execution time: 00:00:00.197"
                    },
                    "metadata": {}
                },
                {
                    "output_type": "execute_result",
                    "metadata": {},
                    "execution_count": 16,
                    "data": {
                        "application/vnd.dataresource+json": {
                            "schema": {
                                "fields": [
                                    {
                                        "name": "first_name"
                                    },
                                    {
                                        "name": "last_name"
                                    },
                                    {
                                        "name": "sex"
                                    }
                                ]
                            },
                            "data": [
                                {
                                    "first_name": "Hercules",
                                    "last_name": "Baer",
                                    "sex": "M"
                                },
                                {
                                    "first_name": "Hercules",
                                    "last_name": "Biron",
                                    "sex": "F"
                                },
                                {
                                    "first_name": "Hercules",
                                    "last_name": "Birge",
                                    "sex": "F"
                                },
                                {
                                    "first_name": "Hercules",
                                    "last_name": "Berstel",
                                    "sex": "F"
                                },
                                {
                                    "first_name": "Hercules",
                                    "last_name": "Bernatsky",
                                    "sex": "M"
                                },
                                {
                                    "first_name": "Hercules",
                                    "last_name": "Bail",
                                    "sex": "F"
                                },
                                {
                                    "first_name": "Hercules",
                                    "last_name": "Bodoff",
                                    "sex": "M"
                                },
                                {
                                    "first_name": "Hercules",
                                    "last_name": "Benantar",
                                    "sex": "F"
                                },
                                {
                                    "first_name": "Hercules",
                                    "last_name": "Basagni",
                                    "sex": "M"
                                },
                                {
                                    "first_name": "Hercules",
                                    "last_name": "Bernardinello",
                                    "sex": "F"
                                },
                                {
                                    "first_name": "Hercules",
                                    "last_name": "Baranowski",
                                    "sex": "M"
                                },
                                {
                                    "first_name": "Hercules",
                                    "last_name": "Bisiani",
                                    "sex": "F"
                                },
                                {
                                    "first_name": "Hercules",
                                    "last_name": "Benzmuller",
                                    "sex": "M"
                                },
                                {
                                    "first_name": "Hercules",
                                    "last_name": "Bahr",
                                    "sex": "M"
                                },
                                {
                                    "first_name": "Hercules",
                                    "last_name": "Biran",
                                    "sex": "F"
                                },
                                {
                                    "first_name": "Hercules",
                                    "last_name": "Bain",
                                    "sex": "F"
                                },
                                {
                                    "first_name": "Hercules",
                                    "last_name": "Brendel",
                                    "sex": "F"
                                },
                                {
                                    "first_name": "Hercules",
                                    "last_name": "Buchter",
                                    "sex": "M"
                                },
                                {
                                    "first_name": "Hercules",
                                    "last_name": "Barreiro",
                                    "sex": "M"
                                },
                                {
                                    "first_name": "Hercules",
                                    "last_name": "Baak",
                                    "sex": "M"
                                }
                            ]
                        },
                        "text/html": [
                            "<table>",
                            "<tr><th>first_name</th><th>last_name</th><th>sex</th></tr>",
                            "<tr><td>Hercules</td><td>Baer</td><td>M</td></tr>",
                            "<tr><td>Hercules</td><td>Biron</td><td>F</td></tr>",
                            "<tr><td>Hercules</td><td>Birge</td><td>F</td></tr>",
                            "<tr><td>Hercules</td><td>Berstel</td><td>F</td></tr>",
                            "<tr><td>Hercules</td><td>Bernatsky</td><td>M</td></tr>",
                            "<tr><td>Hercules</td><td>Bail</td><td>F</td></tr>",
                            "<tr><td>Hercules</td><td>Bodoff</td><td>M</td></tr>",
                            "<tr><td>Hercules</td><td>Benantar</td><td>F</td></tr>",
                            "<tr><td>Hercules</td><td>Basagni</td><td>M</td></tr>",
                            "<tr><td>Hercules</td><td>Bernardinello</td><td>F</td></tr>",
                            "<tr><td>Hercules</td><td>Baranowski</td><td>M</td></tr>",
                            "<tr><td>Hercules</td><td>Bisiani</td><td>F</td></tr>",
                            "<tr><td>Hercules</td><td>Benzmuller</td><td>M</td></tr>",
                            "<tr><td>Hercules</td><td>Bahr</td><td>M</td></tr>",
                            "<tr><td>Hercules</td><td>Biran</td><td>F</td></tr>",
                            "<tr><td>Hercules</td><td>Bain</td><td>F</td></tr>",
                            "<tr><td>Hercules</td><td>Brendel</td><td>F</td></tr>",
                            "<tr><td>Hercules</td><td>Buchter</td><td>M</td></tr>",
                            "<tr><td>Hercules</td><td>Barreiro</td><td>M</td></tr>",
                            "<tr><td>Hercules</td><td>Baak</td><td>M</td></tr>",
                            "</table>"
                        ]
                    }
                }
            ],
            "execution_count": 16
        },
        {
            "cell_type": "code",
            "source": [
                "-- List each employee in the Sales department, including their employee number, last name, and first name:\r\n",
                "\r\n",
                "SELECT e.emp_no, e.last_name, e.first_name\r\n",
                "FROM Employees e\r\n",
                "INNER JOIN Dept_Emp de ON e.emp_no = de.emp_no\r\n",
                "INNER JOIN Departments d ON de.dept_no = d.dept_no\r\n",
                "WHERE d.dept_name = 'Sales'\r\n",
                "limit 20;\r\n",
                ""
            ],
            "metadata": {
                "language": "sql",
                "azdata_cell_guid": "9d2d76b4-d301-44a8-b4a8-7954b34f7f32",
                "tags": []
            },
            "outputs": [
                {
                    "output_type": "display_data",
                    "data": {
                        "text/html": "(20 row(s) affected)"
                    },
                    "metadata": {}
                },
                {
                    "output_type": "display_data",
                    "data": {
                        "text/html": "Total execution time: 00:00:00.007"
                    },
                    "metadata": {}
                },
                {
                    "output_type": "execute_result",
                    "metadata": {},
                    "execution_count": 15,
                    "data": {
                        "application/vnd.dataresource+json": {
                            "schema": {
                                "fields": [
                                    {
                                        "name": "emp_no"
                                    },
                                    {
                                        "name": "last_name"
                                    },
                                    {
                                        "name": "first_name"
                                    }
                                ]
                            },
                            "data": [
                                {
                                    "emp_no": "10002",
                                    "last_name": "Simmel",
                                    "first_name": "Bezalel"
                                },
                                {
                                    "emp_no": "10016",
                                    "last_name": "Cappelletti",
                                    "first_name": "Kazuhito"
                                },
                                {
                                    "emp_no": "10034",
                                    "last_name": "Swan",
                                    "first_name": "Bader"
                                },
                                {
                                    "emp_no": "10041",
                                    "last_name": "Lenart",
                                    "first_name": "Uri"
                                },
                                {
                                    "emp_no": "10050",
                                    "last_name": "Dredge",
                                    "first_name": "Yinghua"
                                },
                                {
                                    "emp_no": "10053",
                                    "last_name": "Zschoche",
                                    "first_name": "Sanjiv"
                                },
                                {
                                    "emp_no": "10060",
                                    "last_name": "Billingsley",
                                    "first_name": "Breannda"
                                },
                                {
                                    "emp_no": "10061",
                                    "last_name": "Herber",
                                    "first_name": "Tse"
                                },
                                {
                                    "emp_no": "10068",
                                    "last_name": "Brattka",
                                    "first_name": "Charlene"
                                },
                                {
                                    "emp_no": "10087",
                                    "last_name": "Eugenio",
                                    "first_name": "Xinglin"
                                },
                                {
                                    "emp_no": "10088",
                                    "last_name": "Syrzycki",
                                    "first_name": "Jungsoon"
                                },
                                {
                                    "emp_no": "10089",
                                    "last_name": "Flasterstein",
                                    "first_name": "Sudharsan"
                                },
                                {
                                    "emp_no": "10093",
                                    "last_name": "Desikan",
                                    "first_name": "Sailaja"
                                },
                                {
                                    "emp_no": "10095",
                                    "last_name": "Morton",
                                    "first_name": "Hilari"
                                },
                                {
                                    "emp_no": "10099",
                                    "last_name": "Sullins",
                                    "first_name": "Valter"
                                },
                                {
                                    "emp_no": "10101",
                                    "last_name": "Heyers",
                                    "first_name": "Perla"
                                },
                                {
                                    "emp_no": "10107",
                                    "last_name": "Baca",
                                    "first_name": "Dung"
                                },
                                {
                                    "emp_no": "10125",
                                    "last_name": "Hiltgen",
                                    "first_name": "Syozo"
                                },
                                {
                                    "emp_no": "10136",
                                    "last_name": "Pintelas",
                                    "first_name": "Zissis"
                                },
                                {
                                    "emp_no": "10148",
                                    "last_name": "Azumi",
                                    "first_name": "Douadi"
                                }
                            ]
                        },
                        "text/html": [
                            "<table>",
                            "<tr><th>emp_no</th><th>last_name</th><th>first_name</th></tr>",
                            "<tr><td>10002</td><td>Simmel</td><td>Bezalel</td></tr>",
                            "<tr><td>10016</td><td>Cappelletti</td><td>Kazuhito</td></tr>",
                            "<tr><td>10034</td><td>Swan</td><td>Bader</td></tr>",
                            "<tr><td>10041</td><td>Lenart</td><td>Uri</td></tr>",
                            "<tr><td>10050</td><td>Dredge</td><td>Yinghua</td></tr>",
                            "<tr><td>10053</td><td>Zschoche</td><td>Sanjiv</td></tr>",
                            "<tr><td>10060</td><td>Billingsley</td><td>Breannda</td></tr>",
                            "<tr><td>10061</td><td>Herber</td><td>Tse</td></tr>",
                            "<tr><td>10068</td><td>Brattka</td><td>Charlene</td></tr>",
                            "<tr><td>10087</td><td>Eugenio</td><td>Xinglin</td></tr>",
                            "<tr><td>10088</td><td>Syrzycki</td><td>Jungsoon</td></tr>",
                            "<tr><td>10089</td><td>Flasterstein</td><td>Sudharsan</td></tr>",
                            "<tr><td>10093</td><td>Desikan</td><td>Sailaja</td></tr>",
                            "<tr><td>10095</td><td>Morton</td><td>Hilari</td></tr>",
                            "<tr><td>10099</td><td>Sullins</td><td>Valter</td></tr>",
                            "<tr><td>10101</td><td>Heyers</td><td>Perla</td></tr>",
                            "<tr><td>10107</td><td>Baca</td><td>Dung</td></tr>",
                            "<tr><td>10125</td><td>Hiltgen</td><td>Syozo</td></tr>",
                            "<tr><td>10136</td><td>Pintelas</td><td>Zissis</td></tr>",
                            "<tr><td>10148</td><td>Azumi</td><td>Douadi</td></tr>",
                            "</table>"
                        ]
                    }
                }
            ],
            "execution_count": 15
        },
        {
            "cell_type": "code",
            "source": [
                "-- List each employee in the Sales and Development departments, including their employee number, last name, first name, and department name:\r\n",
                "\r\n",
                "SELECT e.emp_no, e.last_name, e.first_name, d.dept_name\r\n",
                "FROM Employees e\r\n",
                "INNER JOIN Dept_Emp de ON e.emp_no = de.emp_no\r\n",
                "INNER JOIN Departments d ON de.dept_no = d.dept_no\r\n",
                "WHERE d.dept_name IN ('Sales', 'Development')\r\n",
                "limit 20;\r\n",
                ""
            ],
            "metadata": {
                "language": "sql",
                "azdata_cell_guid": "c8c515a5-bf5a-46e0-af9d-98619fe03fd7",
                "tags": []
            },
            "outputs": [
                {
                    "output_type": "display_data",
                    "data": {
                        "text/html": "(20 row(s) affected)"
                    },
                    "metadata": {}
                },
                {
                    "output_type": "display_data",
                    "data": {
                        "text/html": "Total execution time: 00:00:00.011"
                    },
                    "metadata": {}
                },
                {
                    "output_type": "execute_result",
                    "metadata": {},
                    "execution_count": 14,
                    "data": {
                        "application/vnd.dataresource+json": {
                            "schema": {
                                "fields": [
                                    {
                                        "name": "emp_no"
                                    },
                                    {
                                        "name": "last_name"
                                    },
                                    {
                                        "name": "first_name"
                                    },
                                    {
                                        "name": "dept_name"
                                    }
                                ]
                            },
                            "data": [
                                {
                                    "emp_no": "10001",
                                    "last_name": "Facello",
                                    "first_name": "Georgi",
                                    "dept_name": "Development"
                                },
                                {
                                    "emp_no": "10002",
                                    "last_name": "Simmel",
                                    "first_name": "Bezalel",
                                    "dept_name": "Sales"
                                },
                                {
                                    "emp_no": "10006",
                                    "last_name": "Preusig",
                                    "first_name": "Anneke",
                                    "dept_name": "Development"
                                },
                                {
                                    "emp_no": "10008",
                                    "last_name": "Kalloufi",
                                    "first_name": "Saniya",
                                    "dept_name": "Development"
                                },
                                {
                                    "emp_no": "10012",
                                    "last_name": "Bridgland",
                                    "first_name": "Patricio",
                                    "dept_name": "Development"
                                },
                                {
                                    "emp_no": "10014",
                                    "last_name": "Genin",
                                    "first_name": "Berni",
                                    "dept_name": "Development"
                                },
                                {
                                    "emp_no": "10016",
                                    "last_name": "Cappelletti",
                                    "first_name": "Kazuhito",
                                    "dept_name": "Sales"
                                },
                                {
                                    "emp_no": "10018",
                                    "last_name": "Peha",
                                    "first_name": "Kazuhide",
                                    "dept_name": "Development"
                                },
                                {
                                    "emp_no": "10021",
                                    "last_name": "Erde",
                                    "first_name": "Ramzi",
                                    "dept_name": "Development"
                                },
                                {
                                    "emp_no": "10022",
                                    "last_name": "Famili",
                                    "first_name": "Shahaf",
                                    "dept_name": "Development"
                                },
                                {
                                    "emp_no": "10023",
                                    "last_name": "Montemayor",
                                    "first_name": "Bojan",
                                    "dept_name": "Development"
                                },
                                {
                                    "emp_no": "10025",
                                    "last_name": "Heyers",
                                    "first_name": "Prasadram",
                                    "dept_name": "Development"
                                },
                                {
                                    "emp_no": "10027",
                                    "last_name": "Reistad",
                                    "first_name": "Divier",
                                    "dept_name": "Development"
                                },
                                {
                                    "emp_no": "10028",
                                    "last_name": "Tempesti",
                                    "first_name": "Domenick",
                                    "dept_name": "Development"
                                },
                                {
                                    "emp_no": "10031",
                                    "last_name": "Joslin",
                                    "first_name": "Karsten",
                                    "dept_name": "Development"
                                },
                                {
                                    "emp_no": "10034",
                                    "last_name": "Swan",
                                    "first_name": "Bader",
                                    "dept_name": "Sales"
                                },
                                {
                                    "emp_no": "10037",
                                    "last_name": "Makrucki",
                                    "first_name": "Pradeep",
                                    "dept_name": "Development"
                                },
                                {
                                    "emp_no": "10040",
                                    "last_name": "Meriste",
                                    "first_name": "Weiyi",
                                    "dept_name": "Development"
                                },
                                {
                                    "emp_no": "10041",
                                    "last_name": "Lenart",
                                    "first_name": "Uri",
                                    "dept_name": "Sales"
                                },
                                {
                                    "emp_no": "10043",
                                    "last_name": "Tzvieli",
                                    "first_name": "Yishay",
                                    "dept_name": "Development"
                                }
                            ]
                        },
                        "text/html": [
                            "<table>",
                            "<tr><th>emp_no</th><th>last_name</th><th>first_name</th><th>dept_name</th></tr>",
                            "<tr><td>10001</td><td>Facello</td><td>Georgi</td><td>Development</td></tr>",
                            "<tr><td>10002</td><td>Simmel</td><td>Bezalel</td><td>Sales</td></tr>",
                            "<tr><td>10006</td><td>Preusig</td><td>Anneke</td><td>Development</td></tr>",
                            "<tr><td>10008</td><td>Kalloufi</td><td>Saniya</td><td>Development</td></tr>",
                            "<tr><td>10012</td><td>Bridgland</td><td>Patricio</td><td>Development</td></tr>",
                            "<tr><td>10014</td><td>Genin</td><td>Berni</td><td>Development</td></tr>",
                            "<tr><td>10016</td><td>Cappelletti</td><td>Kazuhito</td><td>Sales</td></tr>",
                            "<tr><td>10018</td><td>Peha</td><td>Kazuhide</td><td>Development</td></tr>",
                            "<tr><td>10021</td><td>Erde</td><td>Ramzi</td><td>Development</td></tr>",
                            "<tr><td>10022</td><td>Famili</td><td>Shahaf</td><td>Development</td></tr>",
                            "<tr><td>10023</td><td>Montemayor</td><td>Bojan</td><td>Development</td></tr>",
                            "<tr><td>10025</td><td>Heyers</td><td>Prasadram</td><td>Development</td></tr>",
                            "<tr><td>10027</td><td>Reistad</td><td>Divier</td><td>Development</td></tr>",
                            "<tr><td>10028</td><td>Tempesti</td><td>Domenick</td><td>Development</td></tr>",
                            "<tr><td>10031</td><td>Joslin</td><td>Karsten</td><td>Development</td></tr>",
                            "<tr><td>10034</td><td>Swan</td><td>Bader</td><td>Sales</td></tr>",
                            "<tr><td>10037</td><td>Makrucki</td><td>Pradeep</td><td>Development</td></tr>",
                            "<tr><td>10040</td><td>Meriste</td><td>Weiyi</td><td>Development</td></tr>",
                            "<tr><td>10041</td><td>Lenart</td><td>Uri</td><td>Sales</td></tr>",
                            "<tr><td>10043</td><td>Tzvieli</td><td>Yishay</td><td>Development</td></tr>",
                            "</table>"
                        ]
                    }
                }
            ],
            "execution_count": 14
        },
        {
            "cell_type": "code",
            "source": [
                "-- List the frequency counts, in descending order, of all the employee last names (that is, how many employees share each last name):\r\n",
                "\r\n",
                "SELECT last_name, COUNT(*) AS frequency\r\n",
                "FROM Employees\r\n",
                "GROUP BY last_name\r\n",
                "ORDER BY frequency DESC\r\n",
                "Limit 20;"
            ],
            "metadata": {
                "language": "sql",
                "azdata_cell_guid": "544f3c02-12d5-43c6-a47f-e3f30664f480",
                "tags": []
            },
            "outputs": [
                {
                    "output_type": "display_data",
                    "data": {
                        "text/html": "(20 row(s) affected)"
                    },
                    "metadata": {}
                },
                {
                    "output_type": "display_data",
                    "data": {
                        "text/html": "Total execution time: 00:00:00.209"
                    },
                    "metadata": {}
                },
                {
                    "output_type": "execute_result",
                    "metadata": {},
                    "execution_count": 13,
                    "data": {
                        "application/vnd.dataresource+json": {
                            "schema": {
                                "fields": [
                                    {
                                        "name": "last_name"
                                    },
                                    {
                                        "name": "frequency"
                                    }
                                ]
                            },
                            "data": [
                                {
                                    "last_name": "Baba",
                                    "frequency": "226"
                                },
                                {
                                    "last_name": "Coorg",
                                    "frequency": "223"
                                },
                                {
                                    "last_name": "Gelosh",
                                    "frequency": "223"
                                },
                                {
                                    "last_name": "Farris",
                                    "frequency": "222"
                                },
                                {
                                    "last_name": "Sudbeck",
                                    "frequency": "222"
                                },
                                {
                                    "last_name": "Adachi",
                                    "frequency": "221"
                                },
                                {
                                    "last_name": "Osgood",
                                    "frequency": "220"
                                },
                                {
                                    "last_name": "Mandell",
                                    "frequency": "218"
                                },
                                {
                                    "last_name": "Neiman",
                                    "frequency": "218"
                                },
                                {
                                    "last_name": "Masada",
                                    "frequency": "218"
                                },
                                {
                                    "last_name": "Wendorf",
                                    "frequency": "217"
                                },
                                {
                                    "last_name": "Boudaillier",
                                    "frequency": "217"
                                },
                                {
                                    "last_name": "Mahnke",
                                    "frequency": "216"
                                },
                                {
                                    "last_name": "Cummings",
                                    "frequency": "216"
                                },
                                {
                                    "last_name": "Solares",
                                    "frequency": "216"
                                },
                                {
                                    "last_name": "Pettis",
                                    "frequency": "216"
                                },
                                {
                                    "last_name": "Kulisch",
                                    "frequency": "215"
                                },
                                {
                                    "last_name": "Maksimenko",
                                    "frequency": "215"
                                },
                                {
                                    "last_name": "Emmart",
                                    "frequency": "215"
                                },
                                {
                                    "last_name": "Collette",
                                    "frequency": "215"
                                }
                            ]
                        },
                        "text/html": [
                            "<table>",
                            "<tr><th>last_name</th><th>frequency</th></tr>",
                            "<tr><td>Baba</td><td>226</td></tr>",
                            "<tr><td>Coorg</td><td>223</td></tr>",
                            "<tr><td>Gelosh</td><td>223</td></tr>",
                            "<tr><td>Farris</td><td>222</td></tr>",
                            "<tr><td>Sudbeck</td><td>222</td></tr>",
                            "<tr><td>Adachi</td><td>221</td></tr>",
                            "<tr><td>Osgood</td><td>220</td></tr>",
                            "<tr><td>Mandell</td><td>218</td></tr>",
                            "<tr><td>Neiman</td><td>218</td></tr>",
                            "<tr><td>Masada</td><td>218</td></tr>",
                            "<tr><td>Wendorf</td><td>217</td></tr>",
                            "<tr><td>Boudaillier</td><td>217</td></tr>",
                            "<tr><td>Mahnke</td><td>216</td></tr>",
                            "<tr><td>Cummings</td><td>216</td></tr>",
                            "<tr><td>Solares</td><td>216</td></tr>",
                            "<tr><td>Pettis</td><td>216</td></tr>",
                            "<tr><td>Kulisch</td><td>215</td></tr>",
                            "<tr><td>Maksimenko</td><td>215</td></tr>",
                            "<tr><td>Emmart</td><td>215</td></tr>",
                            "<tr><td>Collette</td><td>215</td></tr>",
                            "</table>"
                        ]
                    }
                }
            ],
            "execution_count": 13
        }
    ]
}